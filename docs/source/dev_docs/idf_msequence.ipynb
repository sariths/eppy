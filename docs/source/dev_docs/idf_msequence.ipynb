{
 "metadata": {
  "name": ""
 },
 "nbformat": 3,
 "nbformat_minor": 0,
 "worksheets": [
  {
   "cells": [
    {
     "cell_type": "heading",
     "level": 1,
     "metadata": {},
     "source": [
      "Idf_MSequence - Syntactic Sugar work"
     ]
    },
    {
     "cell_type": "heading",
     "level": 2,
     "metadata": {},
     "source": [
      "Underlying Data structure of again"
     ]
    },
    {
     "cell_type": "markdown",
     "metadata": {},
     "source": [
      "Let us open a small idf file and look at the underlying data structure."
     ]
    },
    {
     "cell_type": "raw",
     "metadata": {},
     "source": [
      "::\n",
      "\n",
      "    # assume we have open an IDF file called idf\n",
      "    # let us add three construction objects to it\n",
      "    idf.newidfobject('construction'.upper(), Name='C1')\n",
      "    idf.newidfobject('construction'.upper(), Name='C2')\n",
      "    idf.newidfobject('construction'.upper(), Name='C3')\n",
      "    constructions = idf.idfobjects['construction'.upper()]\n",
      "    print constructions\n"
     ]
    },
    {
     "cell_type": "raw",
     "metadata": {},
     "source": [
      "::\n",
      "\n",
      "    [\n",
      "    CONSTRUCTION,             \n",
      "        C1;                       !- Name\n",
      "    , \n",
      "    CONSTRUCTION,             \n",
      "        C2;                       !- Name\n",
      "    , \n",
      "    CONSTRUCTION,             \n",
      "        C3;                       !- Name\n",
      "    ]\n"
     ]
    },
    {
     "cell_type": "markdown",
     "metadata": {},
     "source": [
      "We know that constructions us just syntactic sugar around the underlying data structure. Let us call the underlying data structure *real_constructions*"
     ]
    },
    {
     "cell_type": "raw",
     "metadata": {},
     "source": [
      "::\n",
      "\n",
      "    # set real_constructions\n",
      "    real_constructions = = idf.model.dt['construction'.upper()]\n",
      "    print real_constructions\n"
     ]
    },
    {
     "cell_type": "raw",
     "metadata": {},
     "source": [
      "::\n",
      "\n",
      "    [['CONSTRUCTION', 'C1'], ['CONSTRUCTION', 'C2'], ['CONSTRUCTION', 'C3']]\n"
     ]
    },
    {
     "cell_type": "raw",
     "metadata": {},
     "source": [
      "::\n",
      "\n",
      "    real_constructions -> the underlying data structure\n",
      "    constructions -> syntactic sugar for real_constructions\n"
     ]
    },
    {
     "cell_type": "markdown",
     "metadata": {},
     "source": [
      "So any changes made in constructions should reflected in constructions. Let us test this out.    "
     ]
    },
    {
     "cell_type": "raw",
     "metadata": {},
     "source": [
      "::\n",
      "\n",
      "    constructions[0].Name = 'New C1'\n",
      "    print constructions\n"
     ]
    },
    {
     "cell_type": "raw",
     "metadata": {},
     "source": [
      "::\n",
      "\n",
      "    [\n",
      "    CONSTRUCTION,             \n",
      "        New C1;                   !- Name\n",
      "    , \n",
      "    CONSTRUCTION,             \n",
      "        C2;                       !- Name\n",
      "    , \n",
      "    CONSTRUCTION,             \n",
      "        C3;                       !- Name\n",
      "    ]\n"
     ]
    },
    {
     "cell_type": "raw",
     "metadata": {},
     "source": [
      "::\n",
      "\n",
      "    print real_constructions\n"
     ]
    },
    {
     "cell_type": "raw",
     "metadata": {},
     "source": [
      "::\n",
      "\n",
      "    [['CONSTRUCTION', 'New C1'], ['CONSTRUCTION', 'C2'], ['CONSTRUCTION', 'C3']]\n"
     ]
    },
    {
     "cell_type": "markdown",
     "metadata": {},
     "source": [
      "Even though we made the change only in *constructions*, we can see the changes in both *constructions* and *real_constructions*. `Ep_Bunch` takes care of this for us."
     ]
    },
    {
     "cell_type": "raw",
     "metadata": {},
     "source": [
      "::\n",
      "\n",
      "    print 'type for constructions', type(constructions)\n"
     ]
    },
    {
     "cell_type": "raw",
     "metadata": {},
     "source": [
      "::\n",
      "\n",
      "    type for constructions <type 'list'>\n"
     ]
    },
    {
     "cell_type": "markdown",
     "metadata": {},
     "source": [
      "since constructions is a list, we can do all the list operations on it. Let us try some of them:"
     ]
    },
    {
     "cell_type": "raw",
     "metadata": {},
     "source": [
      "::\n",
      "    \n",
      "    constructions.pop(0)\n",
      "    "
     ]
    },
    {
     "cell_type": "raw",
     "metadata": {},
     "source": [
      "::\n",
      "\n",
      "    CONSTRUCTION,             \n",
      "        New C1;                   !- Name    \n"
     ]
    },
    {
     "cell_type": "raw",
     "metadata": {},
     "source": [
      "::\n",
      "\n",
      "    print constructions    \n"
     ]
    },
    {
     "cell_type": "raw",
     "metadata": {},
     "source": [
      "::\n",
      "\n",
      "    [\n",
      "    CONSTRUCTION,             \n",
      "        C2;                       !- Name\n",
      "    , \n",
      "    CONSTRUCTION,             \n",
      "        C3;                       !- Name\n",
      "    ]\n"
     ]
    },
    {
     "cell_type": "markdown",
     "metadata": {},
     "source": [
      "That makes sense. We poped the first item in the list and now we have only two items.\n",
      "\n",
      "Is this change reflected in real_constructions ?"
     ]
    },
    {
     "cell_type": "raw",
     "metadata": {},
     "source": [
      "::\n",
      "\n",
      "    print real_constructions\n"
     ]
    },
    {
     "cell_type": "raw",
     "metadata": {},
     "source": [
      "::\n",
      "\n",
      "    [['CONSTRUCTION', 'New C1'], ['CONSTRUCTION', 'C2'], ['CONSTRUCTION', 'C3']]\n"
     ]
    },
    {
     "cell_type": "markdown",
     "metadata": {},
     "source": [
      "Dammit !! Why not ?\n",
      "\n",
      "We still have 3 items in real_constructions and 2 items in constructions    "
     ]
    },
    {
     "cell_type": "raw",
     "metadata": {},
     "source": [
      "::\n",
      "\n",
      "    print 'type for constructions', type(constructions)\n",
      "    print 'id of constructions', id(constructions)\n",
      "    print 'type for real_constructions', type(constructions)\n",
      "    print 'id of real_constructions', id(real_constructions)\n"
     ]
    },
    {
     "cell_type": "raw",
     "metadata": {},
     "source": [
      "::\n",
      "\n",
      "    type for constructions <type 'list'>\n",
      "    id of constructions 4576898440\n",
      "    type for real_constructions <type 'list'>\n",
      "    id of real_constructions 4535436208\n"
     ]
    },
    {
     "cell_type": "markdown",
     "metadata": {},
     "source": [
      "- Both `constructions` and `real_constructions` are lists. \n",
      "- But looking at their ids, it is clear that they are two different lists.\n",
      "- poping an item in one list will not pop it in the other list :-(\n"
     ]
    },
    {
     "cell_type": "markdown",
     "metadata": {},
     "source": [
      "- In `constructions[0].Name =` `\"New C1\"` we see changes to an item within `constructions` is reflected within `real_constructions`\n",
      "- `EpBunch` takes care of that connection\n",
      "- We are having problems with the list functions. \n",
      "- we see that pop() does not work for us\n",
      "- similarly the results of append(), insert(), sort() and reverse() in `constructions` will not be reflected in `real_constructions` \n",
      "\n",
      "This is how it works in eppy version 0.5\n",
      "\n",
      "We need to fix this. Now we describe how this problem was fixed.   \n",
      "\n",
      "`constructions` should be a list-like wrapper around `real_constructions`. Python has an excellent data structure called `collections.MutableSequence` that works perfectly for this. Alex Martelli has a great discussion of this in this stackoverflow thread [Overriding append method after inheriting from a Python List](http://stackoverflow.com/questions/3487434/overriding-append-method-after-inheriting-from-a-python-list) \n",
      "\n",
      "- So we make a class `eppy.idf_msequence.Idf_MSequence` that inherits form `collections.MutableSequence`\n",
      "- `constructions` is now an instance of `eppy.idf_msequence.Idf_MSequence`\n",
      "- reading the above stackoverflow thread and the code wihtin `eppy.idf_msequence.Idf_MSequence` should show you how it works\n",
      "- version of eppy higher than 0.5 will use `eppy.idf_msequence.Idf_MSequence`\n",
      "\n",
      "Let us take a look at how it works (in all versions of eppy newer than 0.5):"
     ]
    },
    {
     "cell_type": "code",
     "collapsed": false,
     "input": [
      "# using eppy version greater than 0.5\n",
      "import sys\n",
      "# pathnameto_eppy = 'c:/eppy'\n",
      "pathnameto_eppy = '../../../'\n",
      "sys.path.append(pathnameto_eppy)\n",
      "from eppy import modeleditor\n",
      "from eppy.modeleditor import IDF\n",
      "iddfile = \"../../../eppy/resources/iddfiles/Energy+V7_2_0.idd\"\n",
      "fname1 = \"../../../eppy/resources/idffiles/V_7_2/smallfile.idf\"\n",
      "IDF.setiddname(iddfile)\n",
      "idf = IDF(fname1)\n",
      "\n",
      "idf.newidfobject('construction'.upper(), Name='C1')\n",
      "idf.newidfobject('construction'.upper(), Name='C2')\n",
      "idf.newidfobject('construction'.upper(), Name='C3')\n",
      "constructions = idf.idfobjects['construction'.upper()]"
     ],
     "language": "python",
     "metadata": {},
     "outputs": [],
     "prompt_number": 4
    },
    {
     "cell_type": "code",
     "collapsed": false,
     "input": [
      "print constructions"
     ],
     "language": "python",
     "metadata": {},
     "outputs": [
      {
       "output_type": "stream",
       "stream": "stdout",
       "text": [
        "[\n",
        "CONSTRUCTION,             \n",
        "    C1;                       !- Name\n",
        ", \n",
        "CONSTRUCTION,             \n",
        "    C2;                       !- Name\n",
        ", \n",
        "CONSTRUCTION,             \n",
        "    C3;                       !- Name\n",
        "]\n"
       ]
      }
     ],
     "prompt_number": 5
    },
    {
     "cell_type": "code",
     "collapsed": false,
     "input": [
      "real_constructions = idf.model.dt['construction'.upper()]\n",
      "print real_constructions"
     ],
     "language": "python",
     "metadata": {},
     "outputs": [
      {
       "output_type": "stream",
       "stream": "stdout",
       "text": [
        "[['CONSTRUCTION', 'C1'], ['CONSTRUCTION', 'C2'], ['CONSTRUCTION', 'C3']]\n"
       ]
      }
     ],
     "prompt_number": 8
    },
    {
     "cell_type": "markdown",
     "metadata": {},
     "source": [
      "Shall we test `pop(0)` here ?"
     ]
    },
    {
     "cell_type": "code",
     "collapsed": false,
     "input": [
      "constructions.pop(0)"
     ],
     "language": "python",
     "metadata": {},
     "outputs": [
      {
       "metadata": {},
       "output_type": "pyout",
       "prompt_number": 9,
       "text": [
        "\n",
        "CONSTRUCTION,             \n",
        "    C1;                       !- Name\n"
       ]
      }
     ],
     "prompt_number": 9
    },
    {
     "cell_type": "code",
     "collapsed": false,
     "input": [
      "print constructions"
     ],
     "language": "python",
     "metadata": {},
     "outputs": [
      {
       "output_type": "stream",
       "stream": "stdout",
       "text": [
        "[\n",
        "CONSTRUCTION,             \n",
        "    C2;                       !- Name\n",
        ", \n",
        "CONSTRUCTION,             \n",
        "    C3;                       !- Name\n",
        "]\n"
       ]
      }
     ],
     "prompt_number": 10
    },
    {
     "cell_type": "code",
     "collapsed": false,
     "input": [
      "print real_constructions"
     ],
     "language": "python",
     "metadata": {},
     "outputs": [
      {
       "output_type": "stream",
       "stream": "stdout",
       "text": [
        "[['CONSTRUCTION', 'C2'], ['CONSTRUCTION', 'C3']]\n"
       ]
      }
     ],
     "prompt_number": 11
    },
    {
     "cell_type": "markdown",
     "metadata": {},
     "source": [
      "Awesome !!! both `constructions` and `real_constructions` have the same number of items"
     ]
    },
    {
     "cell_type": "code",
     "collapsed": false,
     "input": [
      "print type(constructions)\n",
      "print type(real_constructions)"
     ],
     "language": "python",
     "metadata": {},
     "outputs": [
      {
       "output_type": "stream",
       "stream": "stdout",
       "text": [
        "<class 'eppy.idf_msequence.Idf_MSequence'>\n",
        "<type 'list'>\n"
       ]
      }
     ],
     "prompt_number": 12
    },
    {
     "cell_type": "markdown",
     "metadata": {},
     "source": [
      "what kind of sorcery is this. How did that work. How does `Idf.Msequence` do this magic ? Let us look at that [link](http://stackoverflow.com/questions/3487434/overriding-append-method-after-inheriting-from-a-python-list) in stackoverflow. The question raised in stackovverflow is:\n",
      "\n",
      "*I want to create a list that can only accept certain types. As such, I'm trying to inherit from a list in Python, and overriding the append() method like so:* and there is a sample code after this.\n",
      "\n",
      "Alex Martelli responds:\n",
      "\n",
      "*Not the best approach! Python lists have so many mutating methods that you'd have to be overriding a bunch (and would probably forget some).*\n",
      "\n",
      "*Rather, wrap a list, inherit from collections.MutableSequence, and add your checks at the very few \"choke point\" methods on which MutableSequence relies to implement all others.* Alex's code follows after this point. In `eppy.idf_msequence` I have included Alex's code. \n",
      "\n",
      "Stop here and read through the [stackoverflow link](http://stackoverflow.com/questions/3487434/overriding-append-method-after-inheriting-from-a-python-list)\n",
      "\n",
      "Well ... you don't really have to. It does go off on some tangents unrelated to what we do in eppy.\n",
      "\n",
      "The strategy in `eppy.idf_msequence.Idf_MSequence` is to have two lists, list1 and list2. To play with this I made a simple class `TwoLists`. Here `TwoLists` acts just like a list. Any operation list operation on `TwoLists` will result in a similar operation on both list1 and list2. `TwoLists` is not used in eppy, I simply use it to flesh out how `MutableSequence` can be used. I am going to play with `TwoLists` here to show you how cool it is :-)"
     ]
    },
    {
     "cell_type": "code",
     "collapsed": false,
     "input": [
      "from eppy.idf_msequence import TwoLists\n",
      "twolists = TwoLists()\n",
      "print twolists"
     ],
     "language": "python",
     "metadata": {},
     "outputs": [
      {
       "output_type": "stream",
       "stream": "stdout",
       "text": [
        "list1 = [], list2 = []\n"
       ]
      }
     ],
     "prompt_number": 16
    },
    {
     "cell_type": "code",
     "collapsed": false,
     "input": [
      "twolists.append(5)\n",
      "print twolists"
     ],
     "language": "python",
     "metadata": {},
     "outputs": [
      {
       "output_type": "stream",
       "stream": "stdout",
       "text": [
        "list1 = [5], list2 = ['r_5']\n"
       ]
      }
     ],
     "prompt_number": 18
    },
    {
     "cell_type": "code",
     "collapsed": false,
     "input": [
      "twolists.append(dict(a=15))\n",
      "print twolists"
     ],
     "language": "python",
     "metadata": {},
     "outputs": [
      {
       "output_type": "stream",
       "stream": "stdout",
       "text": [
        "list1 = [5, {'a': 15}], list2 = ['r_5', \"r_{'a': 15}\"]\n"
       ]
      }
     ],
     "prompt_number": 19
    },
    {
     "cell_type": "code",
     "collapsed": false,
     "input": [
      "twolists.insert(1, 42)\n",
      "print twolists"
     ],
     "language": "python",
     "metadata": {},
     "outputs": [
      {
       "output_type": "stream",
       "stream": "stdout",
       "text": [
        "list1 = [5, 42, {'a': 15}], list2 = ['r_5', 'r_42', \"r_{'a': 15}\"]\n"
       ]
      }
     ],
     "prompt_number": 20
    },
    {
     "cell_type": "code",
     "collapsed": false,
     "input": [
      "twolists.pop(-1)"
     ],
     "language": "python",
     "metadata": {},
     "outputs": [
      {
       "metadata": {},
       "output_type": "pyout",
       "prompt_number": 21,
       "text": [
        "{'a': 15}"
       ]
      }
     ],
     "prompt_number": 21
    },
    {
     "cell_type": "code",
     "collapsed": false,
     "input": [
      "print twolists"
     ],
     "language": "python",
     "metadata": {},
     "outputs": [
      {
       "output_type": "stream",
       "stream": "stdout",
       "text": [
        "list1 = [5, 42], list2 = ['r_5', 'r_42']\n"
       ]
      }
     ],
     "prompt_number": 22
    },
    {
     "cell_type": "markdown",
     "metadata": {},
     "source": [
      "Isn't that neat !!  `Idf_MSequence` works in a similar way. Out of sheer laziness I am going to let you figure it out on your own. (ignore `Idf_MSequence_old`, since that went in the wrong direction)"
     ]
    },
    {
     "cell_type": "code",
     "collapsed": false,
     "input": [],
     "language": "python",
     "metadata": {},
     "outputs": []
    }
   ],
   "metadata": {}
  }
 ]
}