{
 "cells": [
  {
   "cell_type": "markdown",
   "metadata": {},
   "source": [
    "# Running EnergyPlus from Eppy"
   ]
  },
  {
   "cell_type": "markdown",
   "metadata": {},
   "source": [
    "It would be great if we could run EnergyPlus directly from our IDF wouldn’t it?\n",
    "\n",
    "Well here’s how we can."
   ]
  },
  {
   "cell_type": "code",
   "execution_count": 2,
   "metadata": {
    "collapsed": true
   },
   "outputs": [],
   "source": [
    "# you would normaly install eppy by doing\n",
    "# python setup.py install\n",
    "# or\n",
    "# pip install eppy\n",
    "# or\n",
    "# easy_install eppy\n",
    "\n",
    "# if you have not done so, uncomment the following three lines\n",
    "import sys\n",
    "# pathnameto_eppy = 'c:/eppy'\n",
    "pathnameto_eppy = '../'\n",
    "sys.path.append(pathnameto_eppy)"
   ]
  },
  {
   "cell_type": "code",
   "execution_count": 3,
   "metadata": {
    "collapsed": false
   },
   "outputs": [],
   "source": [
    "from eppy.modeleditor import IDF\n",
    "\n",
    "iddfile = \"/Applications/EnergyPlus-8-3-0/Energy+.idd\"\n",
    "IDF.setiddname(iddfile)\n"
   ]
  },
  {
   "cell_type": "code",
   "execution_count": 4,
   "metadata": {
    "collapsed": false
   },
   "outputs": [],
   "source": [
    "idfname = \"/Applications/EnergyPlus-8-3-0/ExampleFiles/BasicsFiles/Exercise1A.idf\"\n",
    "epwfile = \"/Applications/EnergyPlus-8-3-0/WeatherData/USA_IL_Chicago-OHare.Intl.AP.725300_TMY3.epw\"\n",
    "\n",
    "idf = IDF(idfname, epwfile)\n",
    "idf.run()"
   ]
  },
  {
   "cell_type": "markdown",
   "metadata": {},
   "source": [
    "\n",
    "if you are in a terminal, you will see something like this::\n"
   ]
  },
  {
   "cell_type": "raw",
   "metadata": {},
   "source": [
    "    \n",
    "    Processing Data Dictionary\n",
    "    Processing Input File\n",
    "    Initializing Simulation\n",
    "    Reporting Surfaces\n",
    "    Beginning Primary Simulation\n",
    "    Initializing New Environment Parameters\n",
    "    Warming up {1}\n",
    "    Warming up {2}\n",
    "    Warming up {3}\n",
    "    Warming up {4}\n",
    "    Warming up {5}\n",
    "    Warming up {6}\n",
    "    Starting Simulation at 07/21 for CHICAGO_IL_USA COOLING .4% CONDITIONS DB=>MWB\n",
    "    Initializing New Environment Parameters\n",
    "    Warming up {1}\n",
    "    Warming up {2}\n",
    "    Warming up {3}\n",
    "    Warming up {4}\n",
    "    Warming up {5}\n",
    "    Warming up {6}\n",
    "    Starting Simulation at 01/21 for CHICAGO_IL_USA HEATING 99.6% CONDITIONS\n",
    "    Writing final SQL reports\n",
    "    EnergyPlus Run Time=00hr 00min  0.24sec\n"
   ]
  },
  {
   "cell_type": "markdown",
   "metadata": {},
   "source": [
    "It’s as simple as that to run using the EnergyPlus defaults, but all the EnergyPlus command line interface options are also supported.\n",
    "\n",
    "To get a description of the options available, as well as the defaults you can call the Python built-in help function on the IDF.run method and it will print a full description of the options to the console."
   ]
  },
  {
   "cell_type": "code",
   "execution_count": 5,
   "metadata": {
    "collapsed": false
   },
   "outputs": [
    {
     "name": "stdout",
     "output_type": "stream",
     "text": [
      "Help on method run in module eppy.modeleditor:\n",
      "\n",
      "run(self, **kwargs) method of eppy.modeleditor.IDF instance\n",
      "    This method wraps the following method:\n",
      "    \n",
      "    run(idf=None, weather=None, output_directory=u'', annual=False, design_day=False, idd=None, epmacro=False, expandobjects=False, readvars=False, output_prefix=None, output_suffix=None, version=False, verbose=u'v', ep_version=None)\n",
      "        Wrapper around the EnergyPlus command line interface.\n",
      "        \n",
      "        Parameters\n",
      "        ----------\n",
      "        idf : str\n",
      "            Full or relative path to the IDF file to be run, or an IDF object.\n",
      "        \n",
      "        weather : str\n",
      "            Full or relative path to the weather file.\n",
      "        \n",
      "        output_directory : str, optional\n",
      "            Full or relative path to an output directory (default: 'run_outputs)\n",
      "        \n",
      "        annual : bool, optional\n",
      "            If True then force annual simulation (default: False)\n",
      "        \n",
      "        design_day : bool, optional\n",
      "            Force design-day-only simulation (default: False)\n",
      "        \n",
      "        idd : str, optional\n",
      "            Input data dictionary (default: Energy+.idd in EnergyPlus directory)\n",
      "        \n",
      "        epmacro : str, optional\n",
      "            Run EPMacro prior to simulation (default: False).\n",
      "        \n",
      "        expandobjects : bool, optional\n",
      "            Run ExpandObjects prior to simulation (default: False)\n",
      "        \n",
      "        readvars : bool, optional\n",
      "            Run ReadVarsESO after simulation (default: False)\n",
      "        \n",
      "        output_prefix : str, optional\n",
      "            Prefix for output file names (default: eplus)\n",
      "        \n",
      "        output_suffix : str, optional\n",
      "            Suffix style for output file names (default: L)\n",
      "                L: Legacy (e.g., eplustbl.csv)\n",
      "                C: Capital (e.g., eplusTable.csv)\n",
      "                D: Dash (e.g., eplus-table.csv)\n",
      "        \n",
      "        version : bool, optional\n",
      "            Display version information (default: False)\n",
      "        \n",
      "        verbose: str\n",
      "            Set verbosity of runtime messages (default: v)\n",
      "                v: verbose\n",
      "                q: quiet\n",
      "        \n",
      "        ep_version: str\n",
      "            EnergyPlus version, used to find install directory. Required if run() is\n",
      "            called with an IDF file path rather than an IDF object.\n",
      "        \n",
      "        Returns\n",
      "        -------\n",
      "        str : status\n",
      "        \n",
      "        Raises\n",
      "        ------\n",
      "        CalledProcessError\n",
      "        \n",
      "        AttributeError\n",
      "            If no ep_version parameter is passed when calling with an IDF file path\n",
      "            rather than an IDF object.\n",
      "\n"
     ]
    }
   ],
   "source": [
    "help(idf.run)"
   ]
  },
  {
   "cell_type": "markdown",
   "metadata": {},
   "source": [
    "*Note:* idf.run() works for E+ version >= 8.3"
   ]
  },
  {
   "cell_type": "markdown",
   "metadata": {},
   "source": [
    "## Running in parallel processes"
   ]
  },
  {
   "cell_type": "markdown",
   "metadata": {},
   "source": [
    "One of the great things about Eppy is that it allows you to set up a lot of jobs really easily. However, it can be slow running a lot of EnergyPlus simulations, so it’s pretty important that we can make the most of the processing power you have available by running on multiple CPUs.\n",
    "\n",
    "Again this is as simple as you’d hope it would be.\n",
    "\n",
    "You first need to create your jobs as a list of lists in the form::"
   ]
  },
  {
   "cell_type": "raw",
   "metadata": {},
   "source": [
    "    \n",
    "    [[<IDF object>, <dict of command line parameters>], ...]"
   ]
  },
  {
   "cell_type": "markdown",
   "metadata": {},
   "source": [
    "The example here just creates 4 identical jobs apart from the output_directory the results are saved in, but you would obviously want to make each job different.\n",
    "\n",
    "Then run the jobs on the required number of CPUs using runIDFs...\n",
    "\n",
    "... and your results will all be in the output_directory you specified."
   ]
  }
 ],
 "metadata": {
  "kernelspec": {
   "display_name": "Python 2",
   "language": "python",
   "name": "python2"
  },
  "language_info": {
   "codemirror_mode": {
    "name": "ipython",
    "version": 2
   },
   "file_extension": ".py",
   "mimetype": "text/x-python",
   "name": "python",
   "nbconvert_exporter": "python",
   "pygments_lexer": "ipython2",
   "version": "2.7.10"
  }
 },
 "nbformat": 4,
 "nbformat_minor": 0
}
